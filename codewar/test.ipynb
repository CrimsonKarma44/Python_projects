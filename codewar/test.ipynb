{
 "cells": [
  {
   "cell_type": "code",
   "execution_count": 4,
   "metadata": {},
   "outputs": [
    {
     "name": "stdout",
     "output_type": "stream",
     "text": [
      "['...', '...']\n",
      "S S\n"
     ]
    }
   ],
   "source": [
    "\n",
    "def word_sentence(code):\n",
    "    def morse(code, template):\n",
    "        for i in range(len(code)):\n",
    "            if code[i] == \".\":\n",
    "                template = template[1]\n",
    "            elif code[i] == \"-\":\n",
    "                template = template[-1]\n",
    "        if code == '':\n",
    "            template = ' '\n",
    "        elif isinstance(template, list):\n",
    "            template = template[0]\n",
    "    \n",
    "        return template \n",
    "    morse_code_temp = [\n",
    "        'Start',\n",
    "        ['E', ['I', ['S', 'H', 'V'], ['U', 'F', '']], ['A', ['R', 'L', ''], ['W', 'P', 'J']]],\n",
    "        ['T', ['N', ['D', 'B', 'X'], ['K', 'C', 'Y']], ['M', ['G', 'Z', 'Q'], ['O', '', '']]]\n",
    "    ]\n",
    "    lstd = []\n",
    "    source = code.split('   ')\n",
    "    print(source)\n",
    "    for v in source:\n",
    "        d = v.split(' ')\n",
    "        w = ''\n",
    "        for i in d:\n",
    "            w+=morse(i, morse_code_temp)\n",
    "        lstd.append(w)\n",
    "        t = ' '.join(lstd)\n",
    "\n",
    "    return t\n",
    "\n",
    "\n",
    "print(word_sentence('...   ...'))"
   ]
  },
  {
   "cell_type": "code",
   "execution_count": 2,
   "metadata": {},
   "outputs": [
    {
     "data": {
      "text/plain": [
       "['love', 'deave', 'dave']"
      ]
     },
     "execution_count": 2,
     "metadata": {},
     "output_type": "execute_result"
    }
   ],
   "source": [
    "l = 'love   deave   dave'\n",
    "d = l.split('   ')\n",
    "d"
   ]
  }
 ],
 "metadata": {
  "kernelspec": {
   "display_name": "Python 3.10.8 64-bit",
   "language": "python",
   "name": "python3"
  },
  "language_info": {
   "codemirror_mode": {
    "name": "ipython",
    "version": 3
   },
   "file_extension": ".py",
   "mimetype": "text/x-python",
   "name": "python",
   "nbconvert_exporter": "python",
   "pygments_lexer": "ipython3",
   "version": "3.10.8"
  },
  "orig_nbformat": 4,
  "vscode": {
   "interpreter": {
    "hash": "e7370f93d1d0cde622a1f8e1c04877d8463912d04d973331ad4851f04de6915a"
   }
  }
 },
 "nbformat": 4,
 "nbformat_minor": 2
}
