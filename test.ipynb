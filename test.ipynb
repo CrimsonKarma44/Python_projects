{
 "cells": [
  {
   "cell_type": "code",
   "execution_count": 7,
   "metadata": {},
   "outputs": [
    {
     "data": {
      "text/plain": [
       "['love']"
      ]
     },
     "execution_count": 7,
     "metadata": {},
     "output_type": "execute_result"
    }
   ],
   "source": [
    "dic = {\n",
    "    'love': 'king',\n",
    "    'dispere': 'volcan'\n",
    "}\n",
    "dic['love'] = 'vi'\n",
    "dic['love']\n",
    "love = []\n",
    "love.append('love')\n",
    "love"
   ]
  },
  {
   "cell_type": "code",
   "execution_count": 27,
   "metadata": {},
   "outputs": [
    {
     "name": "stdout",
     "output_type": "stream",
     "text": [
      "love com\n",
      "love Hate\n"
     ]
    }
   ],
   "source": [
    "word = \"love.com\"\n",
    "[l, v] = word.split('.')\n",
    "print(l, v)\n",
    "\n",
    "word = ['love', 'Hate']\n",
    "(l, v) = word\n",
    "print(l, v)"
   ]
  },
  {
   "cell_type": "code",
   "execution_count": null,
   "metadata": {},
   "outputs": [
    {
     "name": "stdout",
     "output_type": "stream",
     "text": [
      "[0, 1, 2, 3, 4]\n",
      "[2, 3, 4]\n",
      "[2]\n",
      "Found with 3 steps\n"
     ]
    }
   ],
   "source": [
    "def slicer(arr, target, count = 0):\n",
    "    mid = int(len(arr)/2)\n",
    "    if len(arr) == 1:\n",
    "        if arr[0] == target:\n",
    "            print('Found with {} steps'.format(count))\n",
    "        else:\n",
    "            print(\"not found\")\n",
    "    else:\n",
    "        if target > arr[mid-1]:\n",
    "            arr = arr[mid:]\n",
    "        else:\n",
    "            arr = arr[0:mid]\n",
    "        print(arr)\n",
    "        count+=1\n",
    "        slicer(arr, target, count)slicer([0,1,2,3,4,5,6,7,8,9], 2)"
   ]
  },
  {
   "cell_type": "code",
   "execution_count": 23,
   "metadata": {},
   "outputs": [
    {
     "name": "stdout",
     "output_type": "stream",
     "text": [
      "[1, 2, 3, 4, 5, 5, 6, 8]\n"
     ]
    },
    {
     "data": {
      "text/plain": [
       "[8, 6, 5, 5, 4, 3, 2, 1]"
      ]
     },
     "execution_count": 23,
     "metadata": {},
     "output_type": "execute_result"
    }
   ],
   "source": [
    "l = [2,4,1,5,6,8,3,5]\n",
    "l.sort()\n",
    "print(l)\n",
    "l = [2,4,1,5,6,8,3,5]\n",
    "l.sort(reverse=True)\n",
    "l"
   ]
  },
  {
   "cell_type": "code",
   "execution_count": 31,
   "metadata": {},
   "outputs": [
    {
     "data": {
      "text/plain": [
       "[[], [], [], [], [], [], [], [], [], []]"
      ]
     },
     "execution_count": 31,
     "metadata": {},
     "output_type": "execute_result"
    }
   ],
   "source": [
    "l = [[] for _ in range(10)]\n",
    "l"
   ]
  },
  {
   "cell_type": "code",
   "execution_count": 1,
   "metadata": {},
   "outputs": [
    {
     "name": "stdout",
     "output_type": "stream",
     "text": [
      "[[], [], [], [2, 4, 3, 1, 2, 7], [], [], [], [], [], []]\n"
     ]
    }
   ],
   "source": [
    "class Graph:\n",
    "    # Constructor\n",
    "    def __init__(self, edges, n):\n",
    " \n",
    "        # A list of lists to represent an adjacency list\n",
    "        self.adjList = [[] for _ in range(n)]\n",
    " \n",
    "        # add edges to the undirected graph\n",
    "        for (src, dest) in edges:\n",
    "            # self.adjList[src].append(dest)\n",
    "            self.adjList[dest].append(src)\n",
    "\n",
    "edges = [[2,3], [4,3], [3,3], [1,3], [2,3], [7,3]]\n",
    "v = Graph(edges, 10)\n",
    "print(v.adjList)"
   ]
  },
  {
   "cell_type": "code",
   "execution_count": 4,
   "metadata": {},
   "outputs": [
    {
     "ename": "TclError",
     "evalue": "invalid command name \".!canvas\"",
     "output_type": "error",
     "traceback": [
      "\u001b[0;31m---------------------------------------------------------------------------\u001b[0m",
      "\u001b[0;31mTclError\u001b[0m                                  Traceback (most recent call last)",
      "Cell \u001b[0;32mIn [4], line 15\u001b[0m\n\u001b[1;32m     11\u001b[0m     t\u001b[39m.\u001b[39mcircle(r)\n\u001b[1;32m     14\u001b[0m \u001b[39m#draw a circle in (50,30) with r=50\u001b[39;00m\n\u001b[0;32m---> 15\u001b[0m drawCircle(\u001b[39m50\u001b[39;49m,\u001b[39m30\u001b[39;49m,\u001b[39m50\u001b[39;49m)\n\u001b[1;32m     17\u001b[0m \u001b[39m#draw a circle in (20,50) with r=100\u001b[39;00m\n\u001b[1;32m     18\u001b[0m drawCircle(\u001b[39m20\u001b[39m,\u001b[39m50\u001b[39m,\u001b[39m100\u001b[39m)\n",
      "Cell \u001b[0;32mIn [4], line 8\u001b[0m, in \u001b[0;36mdrawCircle\u001b[0;34m(x, y, r)\u001b[0m\n\u001b[1;32m      7\u001b[0m \u001b[39mdef\u001b[39;00m \u001b[39mdrawCircle\u001b[39m(x,y,r):\n\u001b[0;32m----> 8\u001b[0m     t\u001b[39m.\u001b[39;49mpu()\n\u001b[1;32m      9\u001b[0m     t\u001b[39m.\u001b[39mgoto(x,y\u001b[39m-\u001b[39mr) \u001b[39m#-r because we want xy as center and Turtles starts from border\u001b[39;00m\n\u001b[1;32m     10\u001b[0m     t\u001b[39m.\u001b[39mpd()\n",
      "File \u001b[0;32m/usr/lib/python3.10/turtle.py:2108\u001b[0m, in \u001b[0;36mTPen.penup\u001b[0;34m(self)\u001b[0m\n\u001b[1;32m   2106\u001b[0m \u001b[39mif\u001b[39;00m \u001b[39mnot\u001b[39;00m \u001b[39mself\u001b[39m\u001b[39m.\u001b[39m_drawing:\n\u001b[1;32m   2107\u001b[0m     \u001b[39mreturn\u001b[39;00m\n\u001b[0;32m-> 2108\u001b[0m \u001b[39mself\u001b[39;49m\u001b[39m.\u001b[39;49mpen(pendown\u001b[39m=\u001b[39;49m\u001b[39mFalse\u001b[39;49;00m)\n",
      "File \u001b[0;32m/usr/lib/python3.10/turtle.py:2426\u001b[0m, in \u001b[0;36mTPen.pen\u001b[0;34m(self, pen, **pendict)\u001b[0m\n\u001b[1;32m   2424\u001b[0m         newLine \u001b[39m=\u001b[39m \u001b[39mTrue\u001b[39;00m\n\u001b[1;32m   2425\u001b[0m \u001b[39mif\u001b[39;00m newLine:\n\u001b[0;32m-> 2426\u001b[0m     \u001b[39mself\u001b[39;49m\u001b[39m.\u001b[39;49m_newLine()\n\u001b[1;32m   2427\u001b[0m \u001b[39mif\u001b[39;00m \u001b[39m\"\u001b[39m\u001b[39mpendown\u001b[39m\u001b[39m\"\u001b[39m \u001b[39min\u001b[39;00m p:\n\u001b[1;32m   2428\u001b[0m     \u001b[39mself\u001b[39m\u001b[39m.\u001b[39m_drawing \u001b[39m=\u001b[39m p[\u001b[39m\"\u001b[39m\u001b[39mpendown\u001b[39m\u001b[39m\"\u001b[39m]\n",
      "File \u001b[0;32m/usr/lib/python3.10/turtle.py:3293\u001b[0m, in \u001b[0;36mRawTurtle._newLine\u001b[0;34m(self, usePos)\u001b[0m\n\u001b[1;32m   3291\u001b[0m     \u001b[39mself\u001b[39m\u001b[39m.\u001b[39mitems\u001b[39m.\u001b[39mappend(\u001b[39mself\u001b[39m\u001b[39m.\u001b[39mcurrentLineItem)\n\u001b[1;32m   3292\u001b[0m \u001b[39melse\u001b[39;00m:\n\u001b[0;32m-> 3293\u001b[0m     \u001b[39mself\u001b[39;49m\u001b[39m.\u001b[39;49mscreen\u001b[39m.\u001b[39;49m_drawline(\u001b[39mself\u001b[39;49m\u001b[39m.\u001b[39;49mcurrentLineItem, top\u001b[39m=\u001b[39;49m\u001b[39mTrue\u001b[39;49;00m)\n\u001b[1;32m   3294\u001b[0m \u001b[39mself\u001b[39m\u001b[39m.\u001b[39mcurrentLine \u001b[39m=\u001b[39m []\n\u001b[1;32m   3295\u001b[0m \u001b[39mif\u001b[39;00m usePos:\n",
      "File \u001b[0;32m/usr/lib/python3.10/turtle.py:550\u001b[0m, in \u001b[0;36mTurtleScreenBase._drawline\u001b[0;34m(self, lineitem, coordlist, fill, width, top)\u001b[0m\n\u001b[1;32m    548\u001b[0m     \u001b[39mself\u001b[39m\u001b[39m.\u001b[39mcv\u001b[39m.\u001b[39mitemconfigure(lineitem, width\u001b[39m=\u001b[39mwidth)\n\u001b[1;32m    549\u001b[0m \u001b[39mif\u001b[39;00m top:\n\u001b[0;32m--> 550\u001b[0m     \u001b[39mself\u001b[39;49m\u001b[39m.\u001b[39;49mcv\u001b[39m.\u001b[39;49mtag_raise(lineitem)\n",
      "File \u001b[0;32m<string>:1\u001b[0m, in \u001b[0;36mtag_raise\u001b[0;34m(self, *args, **kw)\u001b[0m\n",
      "File \u001b[0;32m/usr/lib/python3.10/tkinter/__init__.py:2971\u001b[0m, in \u001b[0;36mCanvas.tag_raise\u001b[0;34m(self, *args)\u001b[0m\n\u001b[1;32m   2968\u001b[0m \u001b[39mdef\u001b[39;00m \u001b[39mtag_raise\u001b[39m(\u001b[39mself\u001b[39m, \u001b[39m*\u001b[39margs):\n\u001b[1;32m   2969\u001b[0m     \u001b[39m\"\"\"Raise an item TAGORID given in ARGS\u001b[39;00m\n\u001b[1;32m   2970\u001b[0m \u001b[39m    (optional above another item).\"\"\"\u001b[39;00m\n\u001b[0;32m-> 2971\u001b[0m     \u001b[39mself\u001b[39;49m\u001b[39m.\u001b[39;49mtk\u001b[39m.\u001b[39;49mcall((\u001b[39mself\u001b[39;49m\u001b[39m.\u001b[39;49m_w, \u001b[39m'\u001b[39;49m\u001b[39mraise\u001b[39;49m\u001b[39m'\u001b[39;49m) \u001b[39m+\u001b[39;49m args)\n",
      "\u001b[0;31mTclError\u001b[0m: invalid command name \".!canvas\""
     ]
    }
   ],
   "source": [
    "#how to draw a circle?\n",
    "import turtle \n",
    "    \n",
    "t = turtle.Turtle()\n",
    "\n",
    "#This function draw a circle in x,y of radius r\n",
    "def drawCircle(x,y,r):\n",
    "    t.pu()\n",
    "    t.goto(x,y-r) #-r because we want xy as center and Turtles starts from border\n",
    "    t.pd()\n",
    "    t.circle(r)\n",
    "\n",
    "\n",
    "#draw a circle in (50,30) with r=50\n",
    "drawCircle(50,30,50)\n",
    "\n",
    "#draw a circle in (20,50) with r=100\n",
    "drawCircle(20,50,100)\n",
    "\n",
    "#draw a circle in (0,0) with r=10\n",
    "drawCircle(0,0,10) #0,0 is the center of the screen\n",
    "\n",
    "\n",
    "import turtle \n",
    "    \n",
    "t = turtle.Turtle()\n",
    "t.hideturtle() #this hides the arrow\n",
    "t.speed(0) #turn off animation\n",
    "\n",
    "#This function draw a circle in x,y of radius r zoomed by a n factor\n",
    "def drawZoomedCircle(x,y,r,n):\n",
    "    t.pu()\n",
    "    t.goto(x*n,(y-r)*n) #-r because we want xy as center and Turtles starts from border\n",
    "    t.pd()\n",
    "    t.circle(r*n)\n",
    "\n",
    "n=1\n",
    "\n",
    "drawZoomedCircle(5,3,1,n)\n",
    "drawZoomedCircle(2,5,3,n)\n",
    "drawZoomedCircle(0,0,0.2,n)\n",
    "\n",
    "\n"
   ]
  },
  {
   "cell_type": "code",
   "execution_count": 14,
   "metadata": {},
   "outputs": [
    {
     "name": "stdout",
     "output_type": "stream",
     "text": [
      "1\n",
      "0\n"
     ]
    }
   ],
   "source": [
    "length = 10\n",
    "for i in str(length):\n",
    "    print(i)"
   ]
  },
  {
   "cell_type": "code",
   "execution_count": 15,
   "metadata": {},
   "outputs": [
    {
     "data": {
      "text/plain": [
       "['1', '2', '3', '4', '5']"
      ]
     },
     "execution_count": 15,
     "metadata": {},
     "output_type": "execute_result"
    }
   ],
   "source": [
    "num = 12345\n",
    "love = list(str(num))\n",
    "love"
   ]
  },
  {
   "cell_type": "code",
   "execution_count": 42,
   "metadata": {},
   "outputs": [
    {
     "name": "stdout",
     "output_type": "stream",
     "text": [
      "love\n",
      "love\n"
     ]
    }
   ],
   "source": [
    "a = 1\n",
    "b = 1.0\n",
    "if a == b:\n",
    "    print(\"love\")\n",
    "print(\"love\")"
   ]
  },
  {
   "cell_type": "code",
   "execution_count": 101,
   "metadata": {},
   "outputs": [
    {
     "data": {
      "text/plain": [
       "'(123) 456-7890'"
      ]
     },
     "execution_count": 101,
     "metadata": {},
     "output_type": "execute_result"
    }
   ],
   "source": [
    "text = [1, 2, 3, 4, 5, 6, 7, 8, 9, 0]\n",
    "def lo(tex):\n",
    "    love = [str(i) for i in tex]\n",
    "    return '(' + ''.join(love[0:3]) + ') '+ ''.join(love[3:6]) + '-' + ''.join(love[6:])\n",
    "lo(text)"
   ]
  },
  {
   "cell_type": "code",
   "execution_count": 78,
   "metadata": {},
   "outputs": [
    {
     "name": "stdout",
     "output_type": "stream",
     "text": [
      "L-Ll-Lll\n"
     ]
    }
   ],
   "source": [
    "text = \"lll\"\n",
    "dump = ''\n",
    "for v, i in enumerate(text):\n",
    "    count = 0\n",
    "    dump+=i.upper()\n",
    "    while count < v:\n",
    "        dump+=i.lower()\n",
    "        count+=1\n",
    "    if count != len(text)-1:\n",
    "        dump+='-'\n",
    "\n",
    "print(dump)"
   ]
  },
  {
   "cell_type": "code",
   "execution_count": 99,
   "metadata": {},
   "outputs": [
    {
     "data": {
      "text/plain": [
       "['2', '3', '4', '5', '6', '7', '8', '9', '0', '1']"
      ]
     },
     "execution_count": 99,
     "metadata": {},
     "output_type": "execute_result"
    }
   ],
   "source": [
    "text = [1,2,3,4,5,6,7,8,9,0]\n",
    "def lo(text):\n",
    "    return [str(text[i]) for i in text]\n",
    "lo(text)"
   ]
  },
  {
   "cell_type": "code",
   "execution_count": 9,
   "metadata": {},
   "outputs": [
    {
     "data": {
      "text/plain": [
       "50"
      ]
     },
     "execution_count": 9,
     "metadata": {},
     "output_type": "execute_result"
    }
   ],
   "source": [
    "ord('2')\n",
    "# displays the unicode value of a character"
   ]
  }
 ],
 "metadata": {
  "kernelspec": {
   "display_name": "Python 3.10.7 64-bit",
   "language": "python",
   "name": "python3"
  },
  "language_info": {
   "codemirror_mode": {
    "name": "ipython",
    "version": 3
   },
   "file_extension": ".py",
   "mimetype": "text/x-python",
   "name": "python",
   "nbconvert_exporter": "python",
   "pygments_lexer": "ipython3",
   "version": "3.10.7"
  },
  "orig_nbformat": 4,
  "vscode": {
   "interpreter": {
    "hash": "e7370f93d1d0cde622a1f8e1c04877d8463912d04d973331ad4851f04de6915a"
   }
  }
 },
 "nbformat": 4,
 "nbformat_minor": 2
}
