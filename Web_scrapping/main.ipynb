{
 "cells": [
  {
   "cell_type": "code",
   "execution_count": 3,
   "metadata": {},
   "outputs": [],
   "source": [
    "# Web Scrapping\n",
    "import webbrowser"
   ]
  },
  {
   "cell_type": "code",
   "execution_count": 4,
   "metadata": {},
   "outputs": [
    {
     "data": {
      "text/plain": [
       "'\\nwebbrowser:- Comes with Python and opens a browser to a specific page.\\nRequests:- Downloads files and web pages from the Internet.\\nBeautiful Soup:- Parses HTML, the format that web pages are written in.\\nSelenium:- Launches and controls a web browser. Selenium'"
      ]
     },
     "execution_count": 4,
     "metadata": {},
     "output_type": "execute_result"
    }
   ],
   "source": [
    "'''\n",
    "webbrowser:- Comes with Python and opens a browser to a specific page.\n",
    "Requests:- Downloads files and web pages from the Internet.\n",
    "Beautiful Soup:- Parses HTML, the format that web pages are written in.\n",
    "Selenium:- Launches and controls a web browser. Selenium'''"
   ]
  },
  {
   "cell_type": "code",
   "execution_count": 5,
   "metadata": {},
   "outputs": [
    {
     "data": {
      "text/plain": [
       "True"
      ]
     },
     "execution_count": 5,
     "metadata": {},
     "output_type": "execute_result"
    }
   ],
   "source": [
    "webbrowser.open('https://udemy.com')\n",
    "# opens it on a browser"
   ]
  },
  {
   "cell_type": "code",
   "execution_count": 6,
   "metadata": {},
   "outputs": [
    {
     "data": {
      "text/plain": [
       "'\\nIdeas for Similar Programs\\nAs long as you have a URL, the webbrowser module lets users cut out the step\\nof opening the browser and directing themselves to a website. Other pro-\\ngrams could use this functionality to do the following:\\n• Open all links on a page in separate browser tabs.\\n• Open the browser to the URL for your local weather.\\n• Open several social network sites that you regularly check'"
      ]
     },
     "execution_count": 6,
     "metadata": {},
     "output_type": "execute_result"
    }
   ],
   "source": [
    "'''\n",
    "Ideas for Similar Programs\n",
    "As long as you have a URL, the webbrowser module lets users cut out the step\n",
    "of opening the browser and directing themselves to a website. Other pro-\n",
    "grams could use this functionality to do the following:\n",
    "• Open all links on a page in separate browser tabs.\n",
    "• Open the browser to the URL for your local weather.\n",
    "• Open several social network sites that you regularly check'''"
   ]
  },
  {
   "cell_type": "code",
   "execution_count": 7,
   "metadata": {},
   "outputs": [],
   "source": [
    "import requests\n",
    "import selenium"
   ]
  },
  {
   "cell_type": "code",
   "execution_count": 8,
   "metadata": {},
   "outputs": [],
   "source": [
    "res = requests.get('http://www.gutenberg.org/cache/epub/1112/pg1112.txt')\n",
    "if res.status_code == requests.codes.OK:#or 200\n",
    "    love = res.text[0:]\n",
    "    file = open(\"Shake_Spare.txt\", 'w')\n",
    "    file.write(love)\n",
    "    file.close()"
   ]
  },
  {
   "cell_type": "code",
   "execution_count": 9,
   "metadata": {},
   "outputs": [
    {
     "data": {
      "text/plain": [
       "'\\nUnicode encodings are beyond the scope of this book, but you can learn more\\nabout them from these web pages:\\n•   Joel on Software: The Absolute Minimum Every Software Developer\\n                    Absolutely, Positively Must Know About Unicode and Character Sets\\n                    (No Excuses!): http://www.joelonsoftware.com/articles/Unicode.html\\n•   Pragmatic Unicode: http://nedbatchelder.com/text/unipain.html'"
      ]
     },
     "execution_count": 9,
     "metadata": {},
     "output_type": "execute_result"
    }
   ],
   "source": [
    "'''\n",
    "Unicode encodings are beyond the scope of this book, but you can learn more\n",
    "about them from these web pages:\n",
    "•   Joel on Software: The Absolute Minimum Every Software Developer\n",
    "                    Absolutely, Positively Must Know About Unicode and Character Sets\n",
    "                    (No Excuses!): http://www.joelonsoftware.com/articles/Unicode.html\n",
    "•   Pragmatic Unicode: http://nedbatchelder.com/text/unipain.html'''"
   ]
  },
  {
   "cell_type": "code",
   "execution_count": 10,
   "metadata": {},
   "outputs": [
    {
     "data": {
      "text/plain": [
       "\"\\nTo review, here’s the complete process for downloading and saving a file:\\n1. Call requests.get() to download the file.\\n2. Call open() with 'wb' to create a new file in write binary mode.\\n3. Loop over the Response object’s iter_content() method.\\n4. Call write() on each iteration to write the content to the file.\\n5. Call close() to close the file.\\n\\nYou can learn about the requests module’s other features from http://\\nrequests.readthedocs.org/.\""
      ]
     },
     "execution_count": 10,
     "metadata": {},
     "output_type": "execute_result"
    }
   ],
   "source": [
    "'''\n",
    "To review, here’s the complete process for downloading and saving a file:\n",
    "1. Call requests.get() to download the file.\n",
    "2. Call open() with 'wb' to create a new file in write binary mode.\n",
    "3. Loop over the Response object’s iter_content() method.\n",
    "4. Call write() on each iteration to write the content to the file.\n",
    "5. Call close() to close the file.\n",
    "\n",
    "You can learn about the requests module’s other features from http://\n",
    "requests.readthedocs.org/.'''"
   ]
  },
  {
   "cell_type": "code",
   "execution_count": 11,
   "metadata": {},
   "outputs": [
    {
     "data": {
      "text/plain": [
       "'\\nResources for Learning HTML\\nHypertext Markup Language (HTML) is the format that web pages are written\\nin. This chapter assumes you have some basic experience with HTML, but\\nif you need a beginner tutorial, I suggest one of the following sites:\\n•\\n•\\n•\\nhttp://htmldog.com/guides/html/beginner/\\nhttp://www.codecademy.com/tracks/web/\\nhttps://developer.mozilla.org/en-US/learn/html/'"
      ]
     },
     "execution_count": 11,
     "metadata": {},
     "output_type": "execute_result"
    }
   ],
   "source": [
    "'''\n",
    "Resources for Learning HTML\n",
    "Hypertext Markup Language (HTML) is the format that web pages are written\n",
    "in. This chapter assumes you have some basic experience with HTML, but\n",
    "if you need a beginner tutorial, I suggest one of the following sites:\n",
    "•\n",
    "•\n",
    "•\n",
    "http://htmldog.com/guides/html/beginner/\n",
    "http://www.codecademy.com/tracks/web/\n",
    "https://developer.mozilla.org/en-US/learn/html/'''"
   ]
  },
  {
   "cell_type": "code",
   "execution_count": 12,
   "metadata": {},
   "outputs": [
    {
     "data": {
      "text/plain": [
       "'\\nSelector passed to the select() method      Will match . . .\\nsoup.select(\\'div\\')                  |   All elements named <div>\\n                                    |\\nsoup.select(\\'#author\\')              |   The element with an id attribute of author\\n                                    |\\nsoup.select(\\'.notice\\')              |   All elements that use a CSS class attribute named notice\\n                                    |\\nsoup.select(\\'div span\\')             |   All elements named <span> that are within an element named <div>\\n                                    |\\nsoup.select(\\'div > span\\')           |   All elements named <span> that are directly within an element named <div>, with no other element in between\\n                                    |\\nsoup.select(\\'input[name]\\')          |   All elements named <input> that have a name attribute with any value\\n                                    |\\nsoup.select(\\'input[type=\"button\"]\\') |   All elements named <input> that have an attribute named type with value button'"
      ]
     },
     "execution_count": 12,
     "metadata": {},
     "output_type": "execute_result"
    }
   ],
   "source": [
    "'''\n",
    "Selector passed to the select() method      Will match . . .\n",
    "soup.select('div')                  |   All elements named <div>\n",
    "                                    |\n",
    "soup.select('#author')              |   The element with an id attribute of author\n",
    "                                    |\n",
    "soup.select('.notice')              |   All elements that use a CSS class attribute named notice\n",
    "                                    |\n",
    "soup.select('div span')             |   All elements named <span> that are within an element named <div>\n",
    "                                    |\n",
    "soup.select('div > span')           |   All elements named <span> that are directly within an element named <div>, with no other element in between\n",
    "                                    |\n",
    "soup.select('input[name]')          |   All elements named <input> that have a name attribute with any value\n",
    "                                    |\n",
    "soup.select('input[type=\"button\"]') |   All elements named <input> that have an attribute named type with value button'''"
   ]
  },
  {
   "cell_type": "code",
   "execution_count": 13,
   "metadata": {},
   "outputs": [],
   "source": [
    "import bs4, requests\n",
    "\n",
    "res = requests.get('https://www.geeksforgeeks.org/selenium-python-tutorial/')\n",
    "res.raise_for_status()\n",
    "jobs = bs4.BeautifulSoup(res.text)"
   ]
  },
  {
   "cell_type": "code",
   "execution_count": 14,
   "metadata": {},
   "outputs": [
    {
     "name": "stdout",
     "output_type": "stream",
     "text": [
      "Selenium is a powerful tool for controlling web browsers through programs and performing browser automation. It is functional for all browsers, works on all major OS and its scripts are written in various languages i.e Python, Java, C#, etc, we will be working with Python. Selenium Tutorial covers all topics such as – WebDriver, WebElement, Unit Testing with selenium. This Python Selenium Tutorial covers Selenium from basics to advanced and professional uses.\n",
      "Selenium Python Basics\n",
      "Advanced in Selenium Python –\n"
     ]
    }
   ],
   "source": [
    "rex = jobs.select('p')\n",
    "for i in rex:\n",
    "    v = i.getText()\n",
    "    if 'Selenium' in v:\n",
    "        print(v)\n",
    "# print(rex[0].attrs)"
   ]
  },
  {
   "cell_type": "code",
   "execution_count": 15,
   "metadata": {},
   "outputs": [
    {
     "name": "stdout",
     "output_type": "stream",
     "text": [
      "Selenium Python Tricks\n",
      "\n",
      "Selenium Base Mini Project Using Python\n",
      "\n",
      "Python | SMS Bomber using Selenium\n",
      "\n",
      "Close specific Web page using Selenium in Python\n",
      "\n",
      "Python | Automating Happy Birthday post on Facebook using Selenium\n",
      "\n",
      "Download Instagram Posts Using Python Selenium module\n",
      "\n",
      "Scrape and Save Table Data in CSV file using Selenium in Python\n",
      "\n",
      "Why do people prefer Selenium with Python?\n",
      "\n",
      "Like instagram pictures using Selenium | Python\n",
      "\n",
      "{'class': ['hamburger-menu']}\n",
      "{'class': ['gfg-burger-1']}\n",
      "{'class': ['gfg-burger-2']}\n",
      "{'class': ['gfg-burger-3']}\n",
      "{}\n",
      "{}\n",
      "{}\n",
      "{}\n",
      "{}\n",
      "{}\n",
      "{}\n",
      "{}\n",
      "{}\n",
      "{}\n",
      "{}\n",
      "{}\n",
      "{}\n",
      "{}\n",
      "{}\n",
      "{}\n",
      "{}\n",
      "{}\n",
      "{}\n",
      "{}\n",
      "{}\n",
      "{}\n",
      "{}\n",
      "{}\n",
      "{}\n",
      "{}\n",
      "{}\n",
      "{}\n",
      "{}\n",
      "{}\n",
      "{}\n",
      "{}\n",
      "{}\n",
      "{}\n",
      "{}\n",
      "{}\n",
      "{}\n",
      "{}\n",
      "{}\n",
      "{}\n",
      "{}\n",
      "{}\n",
      "{}\n",
      "{}\n",
      "{}\n",
      "{}\n",
      "{}\n",
      "{}\n",
      "{'class': ['gfg-icon', 'gfg-icon_video']}\n",
      "{}\n",
      "{'style': 'margin-top:-2px'}\n",
      "{'class': ['hide-sm'], 'data-value': 'bookmark-message', 'style': 'margin-top:-2px'}\n",
      "{'class': ['gfg-icon', 'gfg-icon_arrow-down-thin']}\n",
      "{'class': ['gfg-icon', 'gfg-icon_arrow-down-thin']}\n",
      "{'class': ['gfg-icon', 'gfg-icon_arrow-down-thin']}\n",
      "{'class': ['gfg-icon', 'gfg-icon_arrow-down-thin']}\n",
      "{'class': ['gfg-icon', 'gfg-icon_arrow-down-thin']}\n",
      "{'class': ['gfg-icon', 'gfg-icon_arrow-down-thin']}\n",
      "{'class': ['gfg-icon', 'gfg-icon_arrow-down-thin']}\n",
      "{'class': ['gfg-icon', 'gfg-icon_arrow-down-thin']}\n",
      "{'class': ['gfg-icon', 'gfg-icon_arrow-down-thin']}\n",
      "{'class': ['gfg-icon', 'gfg-icon_arrow-down-thin']}\n",
      "{'class': ['gfg-icon', 'gfg-icon_arrow-down-thin']}\n",
      "{'class': ['gfg-icon', 'gfg-icon_arrow-down-thin']}\n",
      "{'class': ['gfg-icon', 'gfg-icon_arrow-down-thin']}\n",
      "{'class': ['gfg-icon', 'gfg-icon_arrow-down-thin']}\n",
      "{'class': ['gfg-icon', 'gfg-icon_arrow-down-thin']}\n",
      "{'class': ['gfg-icon', 'gfg-icon_arrow-down-thin']}\n",
      "{'class': ['gfg-icon', 'gfg-icon_arrow-down-thin']}\n",
      "{'class': ['gfg-icon', 'gfg-icon_arrow-down-thin']}\n",
      "{'class': ['gfg-icon', 'gfg-icon_arrow-down-thin']}\n",
      "{'class': ['gfg-icon', 'gfg-icon_arrow-down-thin']}\n",
      "{'class': ['gfg-icon', 'gfg-icon_arrow-down-thin']}\n",
      "{'class': ['gfg-icon', 'gfg-icon_arrow-down-thin', 'upside']}\n",
      "{'class': ['gfg-icon', 'gfg-icon_arrow-down-thin']}\n",
      "{'class': ['gfg-icon', 'gfg-icon_arrow-down-thin']}\n",
      "{'class': ['gfg-icon', 'gfg-icon_arrow-down-thin']}\n",
      "{'class': ['gfg-icon', 'gfg-icon_arrow-down-thin']}\n",
      "{'class': ['gfg-icon', 'gfg-icon_arrow-down-thin']}\n",
      "{'class': ['gfg-icon', 'gfg-icon_arrow-down-thin']}\n",
      "{'class': ['gfg-icon', 'gfg-icon_arrow-down-thin']}\n",
      "{'class': ['gfg-icon', 'gfg-icon_arrow-down-thin']}\n",
      "{'class': ['gfg-icon', 'gfg-icon_arrow-down-thin']}\n",
      "{'class': ['gfg-icon', 'gfg-icon_arrow-down-thin']}\n",
      "{'class': ['gfg-icon', 'gfg-icon_arrow-down-thin']}\n",
      "{'class': ['gfg-icon', 'gfg-icon_arrow-down-thin']}\n",
      "{'class': ['gfg-icon', 'gfg-icon_arrow-down-thin']}\n",
      "{'class': ['gfg-icon', 'gfg-icon_arrow-down-thin']}\n",
      "{'class': ['gfg-icon', 'gfg-icon_arrow-down-thin']}\n",
      "{'class': ['gfg-icon', 'gfg-icon_arrow-down-thin']}\n",
      "{'class': ['gfg-icon', 'gfg-icon_arrow-down-thin']}\n",
      "{'class': ['gfg-icon', 'gfg-icon_arrow-down-thin']}\n",
      "{'class': ['gfg-icon', 'gfg-icon_arrow-down-thin']}\n",
      "{'class': ['gfg-icon', 'gfg-icon_arrow-down-thin']}\n",
      "{'class': ['gfg-icon', 'gfg-icon_arrow-down-thin']}\n",
      "{'class': ['gfg-icon', 'gfg-icon_arrow-down-thin']}\n",
      "{'class': ['gfg-icon', 'gfg-icon_arrow-down-thin']}\n",
      "{'class': ['gfg-icon', 'gfg-icon_arrow-down-thin']}\n",
      "{'class': ['gfg-icon', 'gfg-icon_arrow-down-thin']}\n",
      "{'class': ['gfg-icon', 'gfg-icon_arrow-down-thin', 'upside']}\n",
      "{'class': ['gfg-icon', 'gfg-icon_arrow-down-thin']}\n",
      "{'class': ['gfg-icon', 'gfg-icon_arrow-down-thin']}\n",
      "{'class': ['gfg-icon', 'gfg-icon_arrow-down-thin']}\n",
      "{'class': ['gfg-icon', 'gfg-icon_arrow-down-thin']}\n",
      "{'class': ['tooltiptext']}\n",
      "{'class': ['tooltiptext']}\n",
      "{'class': ['tooltiptext']}\n",
      "{'class': ['strong']}\n",
      "{}\n",
      "{'class': ['strong']}\n",
      "{}\n",
      "{'class': ['tooltiptext']}\n",
      "{'class': ['tooltiptext']}\n",
      "{'class': ['noteHeaderText']}\n",
      "{'class': ['hideNotesDivIcon']}\n",
      "{'class': ['processSaveNote']}\n",
      "{'class': ['login-modal-btn'], 'style': 'cursor:pointer;color:#308d46'}\n",
      "{'class': ['favoriteLike']}\n",
      "{'class': ['gfg-icon', 'gfg-icon_previous']}\n",
      "{'style': 'margin-left:5px'}\n",
      "{'style': 'margin-right:5px;margin-left:auto'}\n",
      "{'class': ['gfg-icon', 'gfg-icon_next']}\n",
      "{'id': 'SNoOfRecomArti'}\n",
      "{'id': 'RecomArtiTitle'}\n",
      "{'id': 'SNoOfRecomArti'}\n",
      "{'id': 'RecomArtiTitle'}\n",
      "{'id': 'SNoOfRecomArti'}\n",
      "{'id': 'RecomArtiTitle'}\n",
      "{'id': 'SNoOfRecomArti'}\n",
      "{'id': 'RecomArtiTitle'}\n",
      "{'id': 'SNoOfRecomArti'}\n",
      "{'id': 'RecomArtiTitle'}\n",
      "{'id': 'SNoOfRecomArti'}\n",
      "{'id': 'RecomArtiTitle'}\n",
      "{'id': 'SNoOfRecomArti'}\n",
      "{'id': 'RecomArtiTitle'}\n",
      "{'id': 'SNoOfRecomArti'}\n",
      "{'id': 'RecomArtiTitle'}\n",
      "{'id': 'SNoOfRecomArti'}\n",
      "{'id': 'RecomArtiTitle'}\n",
      "{'id': 'SNoOfRecomArti'}\n",
      "{'id': 'RecomArtiTitle'}\n",
      "{'class': ['loader__animation']}\n",
      "{}\n",
      "{}\n",
      "{'class': ['cookie-text']}\n",
      "{'class': ['lightbox-close']}\n",
      "None\n"
     ]
    }
   ],
   "source": [
    "import bs4\n",
    "examplefile = open(\"lolo.txt\")\n",
    "format = bs4.BeautifulSoup(examplefile.read())\n",
    "search = format.select('span')\n",
    "for i in search:\n",
    "    v = i.getText()\n",
    "    if \"Selenium\" in v:\n",
    "        print(v)\n",
    "        print()\n",
    "\n",
    "for i in range(len(search)):\n",
    "    print(search[i].attrs)\n",
    "print(search[0].get('span'))"
   ]
  },
  {
   "cell_type": "code",
   "execution_count": 150,
   "metadata": {},
   "outputs": [
    {
     "ename": "HTTPError",
     "evalue": "429 Client Error: Too Many Requests for url: https://www.google.com/sorry/index?continue=https://www.google.com/search%3Fq%3Dl&q=EgRmWzdbGKeE_psGIjDz5CzysCrDogMv_HO-BnEOP99hN1VRPVQ0oMdwZKaUgiNe_wi6SpTOpJy0uKE5W38yAXI",
     "output_type": "error",
     "traceback": [
      "\u001b[0;31m---------------------------------------------------------------------------\u001b[0m",
      "\u001b[0;31mHTTPError\u001b[0m                                 Traceback (most recent call last)",
      "Cell \u001b[0;32mIn [150], line 3\u001b[0m\n\u001b[1;32m      1\u001b[0m \u001b[39mwith\u001b[39;00m \u001b[39mopen\u001b[39m(\u001b[39m\"\u001b[39m\u001b[39mfile.html\u001b[39m\u001b[39m\"\u001b[39m, \u001b[39m'\u001b[39m\u001b[39mw\u001b[39m\u001b[39m'\u001b[39m) \u001b[39mas\u001b[39;00m file:\n\u001b[1;32m      2\u001b[0m     res \u001b[39m=\u001b[39m requests\u001b[39m.\u001b[39mget(\u001b[39m\"\u001b[39m\u001b[39mhttps://google.com/search?q=l\u001b[39m\u001b[39m\"\u001b[39m)\n\u001b[0;32m----> 3\u001b[0m     res\u001b[39m.\u001b[39;49mraise_for_status()\n\u001b[1;32m      5\u001b[0m     file\u001b[39m.\u001b[39mwrite(res\u001b[39m.\u001b[39mtext)\n",
      "File \u001b[0;32m/usr/lib/python3/dist-packages/requests/models.py:960\u001b[0m, in \u001b[0;36mResponse.raise_for_status\u001b[0;34m(self)\u001b[0m\n\u001b[1;32m    957\u001b[0m     http_error_msg \u001b[39m=\u001b[39m \u001b[39mu\u001b[39m\u001b[39m'\u001b[39m\u001b[39m%s\u001b[39;00m\u001b[39m Server Error: \u001b[39m\u001b[39m%s\u001b[39;00m\u001b[39m for url: \u001b[39m\u001b[39m%s\u001b[39;00m\u001b[39m'\u001b[39m \u001b[39m%\u001b[39m (\u001b[39mself\u001b[39m\u001b[39m.\u001b[39mstatus_code, reason, \u001b[39mself\u001b[39m\u001b[39m.\u001b[39murl)\n\u001b[1;32m    959\u001b[0m \u001b[39mif\u001b[39;00m http_error_msg:\n\u001b[0;32m--> 960\u001b[0m     \u001b[39mraise\u001b[39;00m HTTPError(http_error_msg, response\u001b[39m=\u001b[39m\u001b[39mself\u001b[39m)\n",
      "\u001b[0;31mHTTPError\u001b[0m: 429 Client Error: Too Many Requests for url: https://www.google.com/sorry/index?continue=https://www.google.com/search%3Fq%3Dl&q=EgRmWzdbGKeE_psGIjDz5CzysCrDogMv_HO-BnEOP99hN1VRPVQ0oMdwZKaUgiNe_wi6SpTOpJy0uKE5W38yAXI"
     ]
    }
   ],
   "source": [
    "with open(\"file.html\", 'w') as file:\n",
    "    res = requests.get(\"https://google.com/search?q=l\")\n",
    "    res.raise_for_status()\n",
    "    \n",
    "    file.write(res.text)"
   ]
  },
  {
   "cell_type": "code",
   "execution_count": 1,
   "metadata": {},
   "outputs": [],
   "source": [
    "import bs4"
   ]
  }
 ],
 "metadata": {
  "kernelspec": {
   "display_name": "Python 3.10.7 64-bit",
   "language": "python",
   "name": "python3"
  },
  "language_info": {
   "codemirror_mode": {
    "name": "ipython",
    "version": 3
   },
   "file_extension": ".py",
   "mimetype": "text/x-python",
   "name": "python",
   "nbconvert_exporter": "python",
   "pygments_lexer": "ipython3",
   "version": "3.10.8"
  },
  "orig_nbformat": 4,
  "vscode": {
   "interpreter": {
    "hash": "e7370f93d1d0cde622a1f8e1c04877d8463912d04d973331ad4851f04de6915a"
   }
  }
 },
 "nbformat": 4,
 "nbformat_minor": 2
}
