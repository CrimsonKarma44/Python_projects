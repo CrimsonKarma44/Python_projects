{
 "cells": [
  {
   "cell_type": "code",
   "execution_count": 1,
   "metadata": {},
   "outputs": [],
   "source": [
    "# Web Scrapping\n",
    "import webbrowser"
   ]
  },
  {
   "cell_type": "code",
   "execution_count": 2,
   "metadata": {},
   "outputs": [
    {
     "data": {
      "text/plain": [
       "'\\nwebbrowser:- Comes with Python and opens a browser to a specific page.\\nRequests:- Downloads files and web pages from the Internet.\\nBeautiful Soup:- Parses HTML, the format that web pages are written in.\\nSelenium:- Launches and controls a web browser. Selenium'"
      ]
     },
     "execution_count": 2,
     "metadata": {},
     "output_type": "execute_result"
    }
   ],
   "source": [
    "'''\n",
    "webbrowser:- Comes with Python and opens a browser to a specific page.\n",
    "Requests:- Downloads files and web pages from the Internet.\n",
    "Beautiful Soup:- Parses HTML, the format that web pages are written in.\n",
    "Selenium:- Launches and controls a web browser. Selenium'''"
   ]
  },
  {
   "cell_type": "code",
   "execution_count": 4,
   "metadata": {},
   "outputs": [
    {
     "data": {
      "text/plain": [
       "True"
      ]
     },
     "execution_count": 4,
     "metadata": {},
     "output_type": "execute_result"
    }
   ],
   "source": [
    "webbrowser.open('https://udemy.com')\n",
    "# opens it on a browser"
   ]
  },
  {
   "cell_type": "code",
   "execution_count": 5,
   "metadata": {},
   "outputs": [
    {
     "data": {
      "text/plain": [
       "'\\nIdeas for Similar Programs\\nAs long as you have a URL, the webbrowser module lets users cut out the step\\nof opening the browser and directing themselves to a website. Other pro-\\ngrams could use this functionality to do the following:\\n• Open all links on a page in separate browser tabs.\\n• Open the browser to the URL for your local weather.\\n• Open several social network sites that you regularly check'"
      ]
     },
     "execution_count": 5,
     "metadata": {},
     "output_type": "execute_result"
    }
   ],
   "source": [
    "'''\n",
    "Ideas for Similar Programs\n",
    "As long as you have a URL, the webbrowser module lets users cut out the step\n",
    "of opening the browser and directing themselves to a website. Other pro-\n",
    "grams could use this functionality to do the following:\n",
    "• Open all links on a page in separate browser tabs.\n",
    "• Open the browser to the URL for your local weather.\n",
    "• Open several social network sites that you regularly check'''"
   ]
  },
  {
   "cell_type": "code",
   "execution_count": 6,
   "metadata": {},
   "outputs": [],
   "source": [
    "import requests\n",
    "import selenium"
   ]
  },
  {
   "cell_type": "code",
   "execution_count": 17,
   "metadata": {},
   "outputs": [],
   "source": [
    "res = requests.get('http://www.gutenberg.org/cache/epub/1112/pg1112.txt')\n",
    "if res.status_code == requests.codes.OK:#or 200\n",
    "    love = res.text[0:]\n",
    "    file = open(\"Shake_Spare.txt\", 'w')\n",
    "    file.write(love)\n",
    "    file.close()"
   ]
  },
  {
   "cell_type": "code",
   "execution_count": 1,
   "metadata": {},
   "outputs": [
    {
     "data": {
      "text/plain": [
       "'\\nUnicode encodings are beyond the scope of this book, but you can learn more\\nabout them from these web pages:\\n•   Joel on Software: The Absolute Minimum Every Software Developer\\n                    Absolutely, Positively Must Know About Unicode and Character Sets\\n                    (No Excuses!): http://www.joelonsoftware.com/articles/Unicode.html\\n•   Pragmatic Unicode: http://nedbatchelder.com/text/unipain.html'"
      ]
     },
     "execution_count": 1,
     "metadata": {},
     "output_type": "execute_result"
    }
   ],
   "source": [
    "'''\n",
    "Unicode encodings are beyond the scope of this book, but you can learn more\n",
    "about them from these web pages:\n",
    "•   Joel on Software: The Absolute Minimum Every Software Developer\n",
    "                    Absolutely, Positively Must Know About Unicode and Character Sets\n",
    "                    (No Excuses!): http://www.joelonsoftware.com/articles/Unicode.html\n",
    "•   Pragmatic Unicode: http://nedbatchelder.com/text/unipain.html'''"
   ]
  },
  {
   "cell_type": "code",
   "execution_count": 2,
   "metadata": {},
   "outputs": [
    {
     "data": {
      "text/plain": [
       "\"\\nTo review, here’s the complete process for downloading and saving a file:\\n1. Call requests.get() to download the file.\\n2. Call open() with 'wb' to create a new file in write binary mode.\\n3. Loop over the Response object’s iter_content() method.\\n4. Call write() on each iteration to write the content to the file.\\n5. Call close() to close the file.\""
      ]
     },
     "execution_count": 2,
     "metadata": {},
     "output_type": "execute_result"
    }
   ],
   "source": [
    "'''\n",
    "To review, here’s the complete process for downloading and saving a file:\n",
    "1. Call requests.get() to download the file.\n",
    "2. Call open() with 'wb' to create a new file in write binary mode.\n",
    "3. Loop over the Response object’s iter_content() method.\n",
    "4. Call write() on each iteration to write the content to the file.\n",
    "5. Call close() to close the file.\n",
    "\n",
    "You can learn about the requests module’s other features from http://\n",
    "requests.readthedocs.org/.'''"
   ]
  },
  {
   "cell_type": "code",
   "execution_count": 3,
   "metadata": {},
   "outputs": [
    {
     "data": {
      "text/plain": [
       "'\\nResources for Learning HTML\\nHypertext Markup Language (HTML) is the format that web pages are written\\nin. This chapter assumes you have some basic experience with HTML, but\\nif you need a beginner tutorial, I suggest one of the following sites:\\n•\\n•\\n•\\nhttp://htmldog.com/guides/html/beginner/\\nhttp://www.codecademy.com/tracks/web/\\nhttps://developer.mozilla.org/en-US/learn/html/'"
      ]
     },
     "execution_count": 3,
     "metadata": {},
     "output_type": "execute_result"
    }
   ],
   "source": [
    "'''\n",
    "Resources for Learning HTML\n",
    "Hypertext Markup Language (HTML) is the format that web pages are written\n",
    "in. This chapter assumes you have some basic experience with HTML, but\n",
    "if you need a beginner tutorial, I suggest one of the following sites:\n",
    "•\n",
    "•\n",
    "•\n",
    "http://htmldog.com/guides/html/beginner/\n",
    "http://www.codecademy.com/tracks/web/\n",
    "https://developer.mozilla.org/en-US/learn/html/'''"
   ]
  },
  {
   "cell_type": "code",
   "execution_count": null,
   "metadata": {},
   "outputs": [],
   "source": []
  }
 ],
 "metadata": {
  "kernelspec": {
   "display_name": "Python 3.10.7 64-bit",
   "language": "python",
   "name": "python3"
  },
  "language_info": {
   "codemirror_mode": {
    "name": "ipython",
    "version": 3
   },
   "file_extension": ".py",
   "mimetype": "text/x-python",
   "name": "python",
   "nbconvert_exporter": "python",
   "pygments_lexer": "ipython3",
   "version": "3.10.8"
  },
  "orig_nbformat": 4,
  "vscode": {
   "interpreter": {
    "hash": "e7370f93d1d0cde622a1f8e1c04877d8463912d04d973331ad4851f04de6915a"
   }
  }
 },
 "nbformat": 4,
 "nbformat_minor": 2
}
