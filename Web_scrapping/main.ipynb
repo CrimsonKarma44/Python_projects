{
 "cells": [
  {
   "cell_type": "code",
   "execution_count": 1,
   "metadata": {},
   "outputs": [],
   "source": [
    "# Web Scrapping\n",
    "import webbrowser"
   ]
  },
  {
   "cell_type": "code",
   "execution_count": 2,
   "metadata": {},
   "outputs": [
    {
     "data": {
      "text/plain": [
       "'\\nwebbrowser:- Comes with Python and opens a browser to a specific page.\\nRequests:- Downloads files and web pages from the Internet.\\nBeautiful Soup:- Parses HTML, the format that web pages are written in.\\nSelenium:- Launches and controls a web browser. Selenium'"
      ]
     },
     "execution_count": 2,
     "metadata": {},
     "output_type": "execute_result"
    }
   ],
   "source": [
    "'''\n",
    "webbrowser:- Comes with Python and opens a browser to a specific page.\n",
    "Requests:- Downloads files and web pages from the Internet.\n",
    "Beautiful Soup:- Parses HTML, the format that web pages are written in.\n",
    "Selenium:- Launches and controls a web browser. Selenium'''"
   ]
  },
  {
   "cell_type": "code",
   "execution_count": 4,
   "metadata": {},
   "outputs": [
    {
     "data": {
      "text/plain": [
       "True"
      ]
     },
     "execution_count": 4,
     "metadata": {},
     "output_type": "execute_result"
    }
   ],
   "source": [
    "webbrowser.open('https://udemy.com')\n",
    "# opens it on a browser"
   ]
  },
  {
   "cell_type": "code",
   "execution_count": 5,
   "metadata": {},
   "outputs": [
    {
     "data": {
      "text/plain": [
       "'\\nIdeas for Similar Programs\\nAs long as you have a URL, the webbrowser module lets users cut out the step\\nof opening the browser and directing themselves to a website. Other pro-\\ngrams could use this functionality to do the following:\\n• Open all links on a page in separate browser tabs.\\n• Open the browser to the URL for your local weather.\\n• Open several social network sites that you regularly check'"
      ]
     },
     "execution_count": 5,
     "metadata": {},
     "output_type": "execute_result"
    }
   ],
   "source": [
    "'''\n",
    "Ideas for Similar Programs\n",
    "As long as you have a URL, the webbrowser module lets users cut out the step\n",
    "of opening the browser and directing themselves to a website. Other pro-\n",
    "grams could use this functionality to do the following:\n",
    "• Open all links on a page in separate browser tabs.\n",
    "• Open the browser to the URL for your local weather.\n",
    "• Open several social network sites that you regularly check'''"
   ]
  },
  {
   "cell_type": "code",
   "execution_count": 6,
   "metadata": {},
   "outputs": [],
   "source": [
    "import requests\n",
    "import selenium"
   ]
  },
  {
   "cell_type": "code",
   "execution_count": 17,
   "metadata": {},
   "outputs": [],
   "source": [
    "res = requests.get('http://www.gutenberg.org/cache/epub/1112/pg1112.txt')\n",
    "if res.status_code == requests.codes.OK:#or 200\n",
    "    love = res.text[0:]\n",
    "    file = open(\"Shake_Spare.txt\", 'w')\n",
    "    file.write(love)\n",
    "    file.close()"
   ]
  },
  {
   "cell_type": "code",
   "execution_count": null,
   "metadata": {},
   "outputs": [],
   "source": []
  }
 ],
 "metadata": {
  "kernelspec": {
   "display_name": "Python 3.10.7 64-bit",
   "language": "python",
   "name": "python3"
  },
  "language_info": {
   "codemirror_mode": {
    "name": "ipython",
    "version": 3
   },
   "file_extension": ".py",
   "mimetype": "text/x-python",
   "name": "python",
   "nbconvert_exporter": "python",
   "pygments_lexer": "ipython3",
   "version": "3.10.7"
  },
  "orig_nbformat": 4,
  "vscode": {
   "interpreter": {
    "hash": "e7370f93d1d0cde622a1f8e1c04877d8463912d04d973331ad4851f04de6915a"
   }
  }
 },
 "nbformat": 4,
 "nbformat_minor": 2
}
